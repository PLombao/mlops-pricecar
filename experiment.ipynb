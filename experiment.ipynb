{
 "cells": [
  {
   "cell_type": "code",
   "execution_count": 1,
   "metadata": {},
   "outputs": [],
   "source": [
    "from modelbuilder.model import Model\n",
    "from modelbuilder.validation.validate import build_metrics"
   ]
  },
  {
   "cell_type": "code",
   "execution_count": 2,
   "metadata": {},
   "outputs": [],
   "source": [
    "from api.train.train import load_dataset, create_pipeline, get_splitter"
   ]
  },
  {
   "cell_type": "code",
   "execution_count": 3,
   "metadata": {},
   "outputs": [
    {
     "name": "stdout",
     "output_type": "stream",
     "text": [
      "Index(['ID', 'Price', 'Manufacturer', 'Model', 'Prod__year', 'Category',\n",
      "       'Leather_interior', 'Fuel_type', 'Engine_volume', 'Mileage',\n",
      "       'Cylinders', 'Gear_box_type'],\n",
      "      dtype='object')\n",
      "         ID  Price   Manufacturer Model  Prod__year   Category  \\\n",
      "0  45798484  51746            GAZ    20        1953      Sedan   \n",
      "1  45792773   3200            GAZ    20        1953       Jeep   \n",
      "2  45791976   7840            GAZ    21        1964      Sedan   \n",
      "3  45812939   5331            GAZ    24        1990  Universal   \n",
      "4  44828493   4234  MERCEDES-BENZ   190        1989      Sedan   \n",
      "\n",
      "   Leather_interior Fuel_type  Engine_volume   Mileage  Cylinders  \\\n",
      "0             False    Petrol            2.0       0.0        4.0   \n",
      "1             False    Petrol            3.2  100000.0        4.0   \n",
      "2             False    Petrol            2.4       0.0        4.0   \n",
      "3              True    Petrol            6.3    2000.0        8.0   \n",
      "4             False    Petrol            2.0       0.0        4.0   \n",
      "\n",
      "  Gear_box_type  \n",
      "0        Manual  \n",
      "1        Manual  \n",
      "2        Manual  \n",
      "3        Manual  \n",
      "4        Manual  \n"
     ]
    }
   ],
   "source": [
    "dataset = load_dataset()"
   ]
  },
  {
   "cell_type": "code",
   "execution_count": 27,
   "metadata": {},
   "outputs": [],
   "source": [
    "pipeline = create_pipeline()\n",
    "splitter = get_splitter()\n",
    "# Create object model and fit it\n",
    "model_name = \"car_price_2\"\n",
    "model = Model(model_name, pipeline)"
   ]
  },
  {
   "cell_type": "code",
   "execution_count": 28,
   "metadata": {},
   "outputs": [],
   "source": [
    "model.fit(dataset)"
   ]
  },
  {
   "cell_type": "code",
   "execution_count": 29,
   "metadata": {},
   "outputs": [],
   "source": [
    "metrics = build_metrics(model, model.dataset, splitter)"
   ]
  },
  {
   "cell_type": "code",
   "execution_count": 7,
   "metadata": {},
   "outputs": [
    {
     "data": {
      "text/plain": [
       "{'err_prediction_train_mean': 2679.043,\n",
       " 'abs_err_prediction_train_mean': 13249.709,\n",
       " 'perc_err_prediction_train_mean': 1706.325,\n",
       " 'err_prediction_0_train_mean': 5358.085,\n",
       " 'abs_err_prediction_0_train_mean': 13002.118,\n",
       " 'perc_err_prediction_0_train_mean': 1587.288,\n",
       " 'err_prediction_1_train_mean': -0.0,\n",
       " 'abs_err_prediction_1_train_mean': 13972.736,\n",
       " 'perc_err_prediction_1_train_mean': 1828.017,\n",
       " 'err_prediction_mean': 2638.357,\n",
       " 'abs_err_prediction_mean': 13375.737,\n",
       " 'perc_err_prediction_mean': 1706.135,\n",
       " 'err_prediction_0_mean': 5360.49,\n",
       " 'abs_err_prediction_0_mean': 13017.612,\n",
       " 'perc_err_prediction_0_mean': 1590.883,\n",
       " 'err_prediction_1_mean': -83.777,\n",
       " 'abs_err_prediction_1_mean': 14232.598,\n",
       " 'perc_err_prediction_1_mean': 1824.135,\n",
       " 'err_prediction_train_median': -1354.884,\n",
       " 'abs_err_prediction_train_median': 8393.979,\n",
       " 'perc_err_prediction_train_median': 51.966,\n",
       " 'err_prediction_0_train_median': -0.025,\n",
       " 'abs_err_prediction_0_train_median': 8306.887,\n",
       " 'perc_err_prediction_0_train_median': 55.899,\n",
       " 'err_prediction_1_train_median': -2647.859,\n",
       " 'abs_err_prediction_1_train_median': 8662.73,\n",
       " 'perc_err_prediction_1_train_median': 50.7,\n",
       " 'err_prediction_median': -1338.377,\n",
       " 'abs_err_prediction_median': 8346.258,\n",
       " 'perc_err_prediction_median': 51.769,\n",
       " 'err_prediction_0_median': 5.206,\n",
       " 'abs_err_prediction_0_median': 8290.853,\n",
       " 'perc_err_prediction_0_median': 55.901,\n",
       " 'err_prediction_1_median': -2584.793,\n",
       " 'abs_err_prediction_1_median': 8627.226,\n",
       " 'perc_err_prediction_1_median': 50.487,\n",
       " 'err_prediction_train_q95': 32063.974,\n",
       " 'abs_err_prediction_train_q95': 32511.716,\n",
       " 'perc_err_prediction_train_q95': 4908.549,\n",
       " 'err_prediction_0_train_q95': 35896.025,\n",
       " 'abs_err_prediction_0_train_q95': 35896.025,\n",
       " 'perc_err_prediction_0_train_q95': 4106.707,\n",
       " 'err_prediction_1_train_q95': 27727.578,\n",
       " 'abs_err_prediction_1_train_q95': 28650.193,\n",
       " 'perc_err_prediction_1_train_q95': 5414.427,\n",
       " 'err_prediction_q95': 32054.867,\n",
       " 'abs_err_prediction_q95': 32495.039,\n",
       " 'perc_err_prediction_q95': 4905.398,\n",
       " 'err_prediction_0_q95': 35987.348,\n",
       " 'abs_err_prediction_0_q95': 35987.348,\n",
       " 'perc_err_prediction_0_q95': 4116.084,\n",
       " 'err_prediction_1_q95': 27836.841,\n",
       " 'abs_err_prediction_1_q95': 29010.416,\n",
       " 'perc_err_prediction_1_q95': 5392.13,\n",
       " 'num_observations': 19235,\n",
       " 'num_features': 9}"
      ]
     },
     "execution_count": 7,
     "metadata": {},
     "output_type": "execute_result"
    }
   ],
   "source": [
    "metrics"
   ]
  },
  {
   "cell_type": "code",
   "execution_count": 30,
   "metadata": {},
   "outputs": [
    {
     "name": "stderr",
     "output_type": "stream",
     "text": [
      "2024/02/27 12:14:35 INFO mlflow.types.utils: Unsupported type hint: <class 'modelbuilder.dataset.Dataset'>, skipping schema inference\n",
      "2024/02/27 12:14:35 INFO mlflow.types.utils: Unsupported type hint: <class 'modelbuilder.dataset.Dataset'>, skipping schema inference\n"
     ]
    },
    {
     "name": "stderr",
     "output_type": "stream",
     "text": [
      "/home/pablombao/mlops-pricecar/.venv/lib/python3.11/site-packages/_distutils_hack/__init__.py:18: UserWarning: Distutils was imported before Setuptools, but importing Setuptools also replaces the `distutils` module in `sys.modules`. This may lead to undesirable behaviors or errors. To avoid these issues, avoid using distutils directly, ensure that setuptools is installed in the traditional way (e.g. not an editable install), and/or make sure that setuptools is always imported before distutils.\n",
      "  warnings.warn(\n",
      "/home/pablombao/mlops-pricecar/.venv/lib/python3.11/site-packages/_distutils_hack/__init__.py:33: UserWarning: Setuptools is replacing distutils.\n",
      "  warnings.warn(\"Setuptools is replacing distutils.\")\n"
     ]
    }
   ],
   "source": [
    "from api.helpers.mlflow import register_mlflow\n",
    "import os\n",
    "os.environ[\"MLFLOW_TRACKING_URI\"]=\"http://localhost:5000\"\n",
    "runid = register_mlflow(experiment = model_name, python_model = model, metrics = metrics, params={}, tags = {})"
   ]
  },
  {
   "cell_type": "code",
   "execution_count": 13,
   "metadata": {},
   "outputs": [
    {
     "data": {
      "text/plain": [
       "'22cfe3eaf3674ae09172e9f8f2c482bc'"
      ]
     },
     "execution_count": 13,
     "metadata": {},
     "output_type": "execute_result"
    }
   ],
   "source": [
    "runid"
   ]
  },
  {
   "cell_type": "code",
   "execution_count": 15,
   "metadata": {},
   "outputs": [],
   "source": [
    "from api.helpers.storage import upload_blob_from_file\n",
    "\n",
    "upload_blob_from_file(\"data/car_price_clean.csv\", \"mlflow-plv\", \"test\",\"data.csv\", delete=False)"
   ]
  },
  {
   "cell_type": "code",
   "execution_count": 20,
   "metadata": {},
   "outputs": [],
   "source": [
    "import mlflow\n",
    "from sklearn.model_selection import train_test_split\n",
    "from sklearn.datasets import load_diabetes\n",
    "from sklearn.ensemble import RandomForestRegressor\n",
    "os.environ[\"MLFLOW_TRACKING_URI\"]=\"http://0.0.0.0:5000\"\n",
    "# set the experiment id\n",
    "mlflow.set_experiment(experiment_id=\"132647442831998471\")\n",
    "\n",
    "mlflow.autolog()\n",
    "db = load_diabetes()\n",
    "\n",
    "X_train, X_test, y_train, y_test = train_test_split(db.data, db.target)\n",
    "\n",
    "# Create and train models.\n",
    "rf = RandomForestRegressor(n_estimators=100, max_depth=6, max_features=3)\n",
    "rf.fit(X_train, y_train)\n",
    "\n",
    "# Use the model to make predictions on the test dataset.\n",
    "predictions = rf.predict(X_test)"
   ]
  },
  {
   "cell_type": "code",
   "execution_count": null,
   "metadata": {},
   "outputs": [],
   "source": []
  }
 ],
 "metadata": {
  "kernelspec": {
   "display_name": ".venv",
   "language": "python",
   "name": "python3"
  },
  "language_info": {
   "codemirror_mode": {
    "name": "ipython",
    "version": 3
   },
   "file_extension": ".py",
   "mimetype": "text/x-python",
   "name": "python",
   "nbconvert_exporter": "python",
   "pygments_lexer": "ipython3",
   "version": "3.11.2"
  }
 },
 "nbformat": 4,
 "nbformat_minor": 2
}
